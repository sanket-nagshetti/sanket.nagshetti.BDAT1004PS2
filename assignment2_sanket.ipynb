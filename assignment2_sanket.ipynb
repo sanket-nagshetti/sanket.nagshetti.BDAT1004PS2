{
 "cells": [
  {
   "cell_type": "markdown",
   "id": "82a23405",
   "metadata": {},
   "source": [
    "## Question 1\n",
    "#### Consider the following Python module:\n",
    "#### What value is displayed when the last expression (a) is evaluated? Explain your answer by indicating what\n",
    "#### happens in every executed statement."
   ]
  },
  {
   "cell_type": "code",
   "execution_count": 59,
   "id": "4c4370ea",
   "metadata": {},
   "outputs": [],
   "source": [
    "a=0\n",
    "def c(a):\n",
    "    return a + 2\n",
    "def b():\n",
    "    global a\n",
    "    a = c(a)"
   ]
  },
  {
   "cell_type": "code",
   "execution_count": 60,
   "id": "7b9b3834",
   "metadata": {},
   "outputs": [
    {
     "data": {
      "text/plain": [
       "6"
      ]
     },
     "execution_count": 60,
     "metadata": {},
     "output_type": "execute_result"
    }
   ],
   "source": [
    "b()\n",
    "b()\n",
    "b()\n",
    "a"
   ]
  },
  {
   "cell_type": "markdown",
   "id": "bf59add2",
   "metadata": {},
   "source": [
    "In the given module a is global variable. \\\n",
    "Function c takes variable a and increments its value by 2 \\\n",
    "Function b access global variable a and pass it to function c then it's value get's incremented by 2.\n",
    "\n",
    "Initially value of a is 0. \\\n",
    "b(): when we call the function first time the global variable becomes 2. \\\n",
    "b(): when we call the function second time the global variable becomes 2+2=4. \\\n",
    "b(): when we call the function third time the global variable becomes 4+2=6. \\\n",
    "a: Final we are printing the value of a so it will print final value of a as 6.\n"
   ]
  },
  {
   "cell_type": "markdown",
   "id": "b83e0a4f",
   "metadata": {},
   "source": [
    "## Question 2\n",
    "#### fileLength(), given to you, takes the name of a file as input and returns\n",
    "#### >>> fileLength('midterm.py')"
   ]
  },
  {
   "cell_type": "code",
   "execution_count": 1,
   "id": "d14ffc83",
   "metadata": {},
   "outputs": [],
   "source": [
    "def file_length(file_path):\n",
    "    try:\n",
    "        with open(file_path,'r') as file:\n",
    "            content = file.read()\n",
    "            num_characters = len(content)\n",
    "            print(\"The number of characters in the file: \",num_characters)\n",
    "    except FileNotFoundError:\n",
    "        print(\"File not found at the location: \",file_path)\n",
    "    except Exception as e:\n",
    "        print(\"An error occured:\",str(e))\n"
   ]
  },
  {
   "cell_type": "code",
   "execution_count": 2,
   "id": "e537b75c",
   "metadata": {},
   "outputs": [
    {
     "name": "stdout",
     "output_type": "stream",
     "text": [
      "The number of characters in the file:  123\n",
      "File not found at the location:  /Users/sanketnagshetti/Downloads/invalidfile.txt\n"
     ]
    }
   ],
   "source": [
    "file_path = \"/Users/sanketnagshetti/Downloads/Filelength.txt\"\n",
    "file_length(file_path)\n",
    "\n",
    "file_path = \"/Users/sanketnagshetti/Downloads/invalidfile.txt\"\n",
    "file_length(file_path)"
   ]
  },
  {
   "cell_type": "markdown",
   "id": "766181b3",
   "metadata": {},
   "source": [
    "## Question 3\n",
    "#### Write a class named Marsupial that can be used as shown below:"
   ]
  },
  {
   "cell_type": "code",
   "execution_count": 48,
   "id": "9285793b",
   "metadata": {},
   "outputs": [],
   "source": [
    "class Marsupial:\n",
    "    def __init__(self):\n",
    "        self.pouch = []\n",
    "    \n",
    "    def put_in_pouch(self,item):\n",
    "        self.pouch.append(item)\n",
    "    \n",
    "    def pouch_contents(self):\n",
    "        print(self.pouch)\n",
    "\n",
    "class Kangaroo(Marsupial):\n",
    "    def __init__(self,x=0,y=0):\n",
    "        super().__init__()\n",
    "        self.x = x\n",
    "        self.y = y\n",
    "    \n",
    "    def jump(self,dx,dy):\n",
    "        self.x += dx\n",
    "        self.y += dy\n",
    "    \n",
    "    def __str__(self):\n",
    "        return f'I am a Kangaroo located at coordinates ({self.x},{self.y})'\n",
    "        "
   ]
  },
  {
   "cell_type": "code",
   "execution_count": 41,
   "id": "aaf76c24",
   "metadata": {},
   "outputs": [
    {
     "name": "stdout",
     "output_type": "stream",
     "text": [
      "['doll', 'firetruck', 'kitten']\n"
     ]
    }
   ],
   "source": [
    "m = Marsupial()\n",
    "m.put_in_pouch('doll')\n",
    "m.put_in_pouch('firetruck')\n",
    "m.put_in_pouch('kitten')\n",
    "m.pouch_contents()"
   ]
  },
  {
   "cell_type": "code",
   "execution_count": 50,
   "id": "3740dfbc",
   "metadata": {},
   "outputs": [
    {
     "name": "stdout",
     "output_type": "stream",
     "text": [
      "I am a Kangaroo located at coordinates (0,0)\n",
      "['doll', 'firetruck', 'kitten']\n",
      "I am a Kangaroo located at coordinates (3,0)\n"
     ]
    }
   ],
   "source": [
    "k = Kangaroo(0,0)\n",
    "print(k)\n",
    "k.put_in_pouch('doll')\n",
    "k.put_in_pouch('firetruck')\n",
    "k.put_in_pouch('kitten')\n",
    "k.pouch_contents()\n",
    "k.jump(1,0)\n",
    "k.jump(1,0)\n",
    "k.jump(1,0)\n",
    "print(k)"
   ]
  },
  {
   "cell_type": "markdown",
   "id": "c70b71fd",
   "metadata": {},
   "source": [
    "## Question 4\n",
    "#### Write function collatz() that takes a positive integer x as input and prints the Collatz sequence \n",
    "#### starting at x. A Collatz sequence is obtained by repeatedly applying this rule to the previous number\n",
    "#### x in the sequence:"
   ]
  },
  {
   "cell_type": "code",
   "execution_count": 32,
   "id": "34839bac",
   "metadata": {},
   "outputs": [],
   "source": [
    "def collatz(num):\n",
    "    print(num)\n",
    "    if(num==1):\n",
    "        return\n",
    "    elif(num%2==0):\n",
    "        collatz(int(num/2))\n",
    "    else:\n",
    "        collatz(3*num+1)\n",
    "       "
   ]
  },
  {
   "cell_type": "code",
   "execution_count": 33,
   "id": "30d33966",
   "metadata": {},
   "outputs": [
    {
     "name": "stdout",
     "output_type": "stream",
     "text": [
      "10\n",
      "5\n",
      "16\n",
      "8\n",
      "4\n",
      "2\n",
      "1\n"
     ]
    }
   ],
   "source": [
    "collatz(10)"
   ]
  },
  {
   "cell_type": "markdown",
   "id": "1d7d37a4",
   "metadata": {},
   "source": [
    "## Question 5\n",
    "#### binary()\n",
    "#### Write a recursive method\n",
    "#### that takes a non-negative integer\n",
    "#### the binary representation of integer n."
   ]
  },
  {
   "cell_type": "code",
   "execution_count": 10,
   "id": "1dab21eb",
   "metadata": {},
   "outputs": [
    {
     "name": "stdout",
     "output_type": "stream",
     "text": [
      "Binary representation of number 9:  1001\n",
      "Binary representation of number 100:  1100100\n"
     ]
    }
   ],
   "source": [
    "def binary(num):\n",
    "    if(num>1):\n",
    "        return binary(num//2)+str(num%2)\n",
    "    else:\n",
    "        return str(num)\n",
    "print(\"Binary representation of number 9: \",binary(9))\n",
    "print(\"Binary representation of number 100: \",binary(100))"
   ]
  },
  {
   "cell_type": "markdown",
   "id": "695d3f62",
   "metadata": {},
   "source": [
    "## Question 6\n",
    "#### Implement a class in python named HeadingParser that can be used to parse an HTML document."
   ]
  },
  {
   "cell_type": "code",
   "execution_count": 15,
   "id": "7a4dd4e5",
   "metadata": {},
   "outputs": [],
   "source": [
    "from html.parser import HTMLParser\n",
    "\n",
    "class HeadingParser(HTMLParser):\n",
    "    def __init__(self):\n",
    "        super().__init__() #calling parent class constructor\n",
    "        self.in_heading = False\n",
    "        self.indentation = 0\n",
    "\n",
    "    def handle_starttag(self, tag, attrs):\n",
    "        if tag.startswith('h') and tag[1:].isdigit():  #checking whether tag is heading or not\n",
    "            self.in_heading = True\n",
    "            self.indentation = int(tag[1:]) - 1  #to count the position of heading\n",
    "\n",
    "    def handle_endtag(self, tag): \n",
    "        if self.in_heading:\n",
    "            self.in_heading = False\n",
    "\n",
    "    def handle_data(self, data):\n",
    "        if self.in_heading:\n",
    "            print(\" \" * self.indentation + data)  #for printing the heading"
   ]
  },
  {
   "cell_type": "code",
   "execution_count": 17,
   "id": "97e2dc06",
   "metadata": {},
   "outputs": [
    {
     "name": "stdout",
     "output_type": "stream",
     "text": [
      "Content of the HTML file are below:\n",
      "\n",
      "W3C Mission\n",
      " Principles\n"
     ]
    }
   ],
   "source": [
    "infile = open('/Users/sanketnagshetti/Downloads/w3c.html', 'r') \n",
    "content = infile.read()\n",
    "infile.close()\n",
    "hp = HeadingParser()\n",
    "print(\"Content of the HTML file are below:\\n\")\n",
    "hp.feed(content)"
   ]
  },
  {
   "cell_type": "markdown",
   "id": "77bc32ed",
   "metadata": {},
   "source": [
    "## Question 7\n",
    "#### Implement a class in python named HeadingParser that can be used to parse an HTML document."
   ]
  },
  {
   "cell_type": "code",
   "execution_count": 19,
   "id": "58396f39",
   "metadata": {},
   "outputs": [],
   "source": [
    "from urllib.request import urlopen\n",
    "from urllib.parse import urljoin\n",
    "from html.parser import HTMLParser\n",
    "\n",
    "class WebDirParser(HTMLParser):\n",
    "    def __init__(self, depth, indent):\n",
    "        super().__init__()\n",
    "        self.depth = depth\n",
    "        self.indent = indent"
   ]
  },
  {
   "cell_type": "code",
   "execution_count": 20,
   "id": "d330b9ed",
   "metadata": {},
   "outputs": [],
   "source": [
    "webdir('https://www.example.com', 2, 0)"
   ]
  },
  {
   "cell_type": "markdown",
   "id": "190fa5b8",
   "metadata": {},
   "source": [
    "## Question 8\n",
    "#### Write SQL queries on the below database table that return:\n",
    "#### a) All the temperature data."
   ]
  },
  {
   "cell_type": "code",
   "execution_count": null,
   "id": "2185e3af",
   "metadata": {},
   "outputs": [],
   "source": [
    "SELECT Temperature FROM table"
   ]
  },
  {
   "cell_type": "markdown",
   "id": "ec55a293",
   "metadata": {},
   "source": [
    "#### b) All the cities, but without repetition."
   ]
  },
  {
   "cell_type": "code",
   "execution_count": null,
   "id": "b08060fd",
   "metadata": {},
   "outputs": [],
   "source": [
    "SELECT DISTINCT City FROM table"
   ]
  },
  {
   "cell_type": "markdown",
   "id": "55f4dee1",
   "metadata": {},
   "source": [
    "#### c) All the records for India."
   ]
  },
  {
   "cell_type": "code",
   "execution_count": null,
   "id": "c4fa984e",
   "metadata": {},
   "outputs": [],
   "source": [
    "SELECT * FROM table WHERE Country='India'"
   ]
  },
  {
   "cell_type": "markdown",
   "id": "1d6713d0",
   "metadata": {},
   "source": [
    "#### d) All the Fall records."
   ]
  },
  {
   "cell_type": "code",
   "execution_count": null,
   "id": "2b0f1894",
   "metadata": {},
   "outputs": [],
   "source": [
    "SELECT * FROM table WHERE Season='Fall'"
   ]
  },
  {
   "cell_type": "markdown",
   "id": "40d41dfb",
   "metadata": {},
   "source": [
    "#### e) The city, country, and season for which the average rainfall is between 200 and 400 millimeters."
   ]
  },
  {
   "cell_type": "code",
   "execution_count": null,
   "id": "807a3d25",
   "metadata": {},
   "outputs": [],
   "source": [
    "SELECT city, country,season FROM table GROUP BY  city, country,season HAVING AVG(rainfall) BETWEEN 200 and 400"
   ]
  },
  {
   "cell_type": "markdown",
   "id": "249be3c1",
   "metadata": {},
   "source": [
    "#### f) The city and country for which the average Fall temperature is above 20 degrees, in increasing temperature order."
   ]
  },
  {
   "cell_type": "code",
   "execution_count": null,
   "id": "7e2db2f1",
   "metadata": {},
   "outputs": [],
   "source": [
    "SELECT city,country FROM table WHERE season='Fall' GROUP BY city,country HAVING AVG(Temperature)>20 ORDER BY \n",
    "AVG(Temperature) DESC"
   ]
  },
  {
   "cell_type": "markdown",
   "id": "9309014d",
   "metadata": {},
   "source": [
    "#### g) The total annual rainfall for Cairo."
   ]
  },
  {
   "cell_type": "code",
   "execution_count": null,
   "id": "f7504a81",
   "metadata": {},
   "outputs": [],
   "source": [
    "SELECT SUM(Rainfall) as Total_Rainfall FROM table WHERE City='Cairo'"
   ]
  },
  {
   "cell_type": "markdown",
   "id": "a282fb99",
   "metadata": {},
   "source": [
    "## Question 9\n",
    "#### Suppose list words is defined as follows:\n",
    "#### >>> words = ['The', 'quick', 'brown', 'fox', 'jumps', 'over', 'the', 'lazy', 'dog']\n",
    "#### Write list comprehension expressions that use list words and generate the following lists:\n",
    "#### a) ['THE', 'QUICK', 'BROWN', 'FOX', 'JUMPS', 'OVER', 'THE', 'LAZY', 'DOG']"
   ]
  },
  {
   "cell_type": "code",
   "execution_count": 2,
   "id": "f9ba2a47",
   "metadata": {},
   "outputs": [
    {
     "name": "stdout",
     "output_type": "stream",
     "text": [
      "['THE', 'QUICK', 'BROWN', 'FOX', 'JUMPS', 'OVER', 'THE', 'LAZY', 'DOG']\n"
     ]
    }
   ],
   "source": [
    "words = ['The', 'quick', 'brown', 'fox', 'jumps', 'over', 'the', 'lazy', 'dog']\n",
    "to_upper_case_words = [word.upper() for word in words] \n",
    "print(to_upper_case_words)"
   ]
  },
  {
   "cell_type": "markdown",
   "id": "b622fcff",
   "metadata": {},
   "source": [
    "#### b) ['the', 'quick', 'brown', 'fox', 'jumps', 'over', 'the', 'lazy', 'dog']"
   ]
  },
  {
   "cell_type": "code",
   "execution_count": 3,
   "id": "c3901cd0",
   "metadata": {},
   "outputs": [
    {
     "name": "stdout",
     "output_type": "stream",
     "text": [
      "['the', 'quick', 'brown', 'fox', 'jumps', 'over', 'the', 'lazy', 'dog']\n"
     ]
    }
   ],
   "source": [
    "words = ['The', 'quick', 'brown', 'fox', 'jumps', 'over', 'the', 'lazy', 'dog']\n",
    "to_lower_case_words = [word.lower() for word in words] \n",
    "print(to_lower_case_words)"
   ]
  },
  {
   "cell_type": "markdown",
   "id": "6121e7d6",
   "metadata": {},
   "source": [
    "#### c)[3, 5, 5, 3, 5, 4, 3, 4, 3](the list of lengths of words in list words)."
   ]
  },
  {
   "cell_type": "code",
   "execution_count": 4,
   "id": "5acfe711",
   "metadata": {},
   "outputs": [
    {
     "name": "stdout",
     "output_type": "stream",
     "text": [
      "[3, 5, 5, 3, 5, 4, 3, 4, 3]\n"
     ]
    }
   ],
   "source": [
    "words = ['The', 'quick', 'brown', 'fox', 'jumps', 'over', 'the', 'lazy', 'dog']\n",
    "length_of_words = [len(word) for word in words] \n",
    "print(length_of_words)"
   ]
  },
  {
   "cell_type": "markdown",
   "id": "ecab6923",
   "metadata": {},
   "source": [
    "#### d) [['THE', 'the', 3], ['QUICK', 'quick', 5], ['BROWN', 'brown', 5], ['FOX', 'fox', 3], ['JUMPS', 'jumps', 5], \n",
    "#### ['OVER', 'over', 4], ['THE', 'the', 3], ['LAZY', 'lazy', 4], ['DOG', 'dog', 3]] \n",
    "#### (the list containing a list for every word of list words, where each list contains the word in uppercase \n",
    "#### and lowercase and the length of the word.)"
   ]
  },
  {
   "cell_type": "code",
   "execution_count": 5,
   "id": "f0786911",
   "metadata": {},
   "outputs": [
    {
     "name": "stdout",
     "output_type": "stream",
     "text": [
      "[['THE', 'the', 3], ['QUICK', 'quick', 5], ['BROWN', 'brown', 5], ['FOX', 'fox', 3], ['JUMPS', 'jumps', 5], ['OVER', 'over', 4], ['THE', 'the', 3], ['LAZY', 'lazy', 4], ['DOG', 'dog', 3]]\n"
     ]
    }
   ],
   "source": [
    "words = ['The', 'quick', 'brown', 'fox', 'jumps', 'over', 'the', 'lazy', 'dog']\n",
    "combo_words = [[word.upper(),word.lower() ,len(word)] for word in words] \n",
    "print(combo_words)"
   ]
  },
  {
   "cell_type": "markdown",
   "id": "3ce9c707",
   "metadata": {},
   "source": [
    "#### e) ['The', 'quick', 'brown', 'fox', 'jumps', 'over', 'the', 'lazy', 'dog'] (the list of words in list words \n",
    " ####    containing 4 or more characters.)"
   ]
  },
  {
   "cell_type": "code",
   "execution_count": 7,
   "id": "45952588",
   "metadata": {},
   "outputs": [
    {
     "name": "stdout",
     "output_type": "stream",
     "text": [
      "['quick', 'brown', 'jumps', 'over', 'lazy']\n"
     ]
    }
   ],
   "source": [
    "lengthy_words =  [word for word in words if len(word)>3]\n",
    "print(lengthy_words)"
   ]
  }
 ],
 "metadata": {
  "kernelspec": {
   "display_name": "Python 3 (ipykernel)",
   "language": "python",
   "name": "python3"
  },
  "language_info": {
   "codemirror_mode": {
    "name": "ipython",
    "version": 3
   },
   "file_extension": ".py",
   "mimetype": "text/x-python",
   "name": "python",
   "nbconvert_exporter": "python",
   "pygments_lexer": "ipython3",
   "version": "3.11.4"
  }
 },
 "nbformat": 4,
 "nbformat_minor": 5
}
